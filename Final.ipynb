{
 "cells": [
  {
   "cell_type": "code",
   "execution_count": 1,
   "id": "50dbb910-7642-465f-9b48-2af7a1884cda",
   "metadata": {},
   "outputs": [
    {
     "name": "stdout",
     "output_type": "stream",
     "text": [
      "Tue Nov  7 20:48:56 2023       \n",
      "+---------------------------------------------------------------------------------------+\n",
      "| NVIDIA-SMI 545.29.01              Driver Version: 546.01       CUDA Version: 12.3     |\n",
      "|-----------------------------------------+----------------------+----------------------+\n",
      "| GPU  Name                 Persistence-M | Bus-Id        Disp.A | Volatile Uncorr. ECC |\n",
      "| Fan  Temp   Perf          Pwr:Usage/Cap |         Memory-Usage | GPU-Util  Compute M. |\n",
      "|                                         |                      |               MIG M. |\n",
      "|=========================================+======================+======================|\n",
      "|   0  NVIDIA GeForce RTX 4060 ...    On  | 00000000:01:00.0 Off |                  N/A |\n",
      "| N/A   57C    P8               2W /  53W |     12MiB /  8188MiB |      0%      Default |\n",
      "|                                         |                      |                  N/A |\n",
      "+-----------------------------------------+----------------------+----------------------+\n",
      "                                                                                         \n",
      "+---------------------------------------------------------------------------------------+\n",
      "| Processes:                                                                            |\n",
      "|  GPU   GI   CI        PID   Type   Process name                            GPU Memory |\n",
      "|        ID   ID                                                             Usage      |\n",
      "|=======================================================================================|\n",
      "|    0   N/A  N/A        23      G   /Xwayland                                 N/A      |\n",
      "+---------------------------------------------------------------------------------------+\n"
     ]
    }
   ],
   "source": [
    "!nvidia-smi"
   ]
  },
  {
   "cell_type": "code",
   "execution_count": 2,
   "id": "b4a681ca-d8f0-4b6c-b170-b3756508cde5",
   "metadata": {},
   "outputs": [
    {
     "name": "stdout",
     "output_type": "stream",
     "text": [
      "nvcc: NVIDIA (R) Cuda compiler driver\n",
      "Copyright (c) 2005-2022 NVIDIA Corporation\n",
      "Built on Mon_Oct_24_19:12:58_PDT_2022\n",
      "Cuda compilation tools, release 12.0, V12.0.76\n",
      "Build cuda_12.0.r12.0/compiler.31968024_0\n"
     ]
    }
   ],
   "source": [
    "!nvcc --version"
   ]
  },
  {
   "cell_type": "code",
   "execution_count": 3,
   "id": "93abaed0-76f0-4239-b80a-156183849070",
   "metadata": {},
   "outputs": [
    {
     "data": {
      "text/plain": [
       "'\\nfrom numba import cuda\\ncuda.get_current_device().reset()\\n'"
      ]
     },
     "execution_count": 3,
     "metadata": {},
     "output_type": "execute_result"
    }
   ],
   "source": [
    "'''\n",
    "from numba import cuda\n",
    "cuda.get_current_device().reset()\n",
    "'''"
   ]
  },
  {
   "cell_type": "code",
   "execution_count": 3,
   "id": "acd7f8aa-035e-48e7-98d2-e75551be5faa",
   "metadata": {},
   "outputs": [
    {
     "name": "stderr",
     "output_type": "stream",
     "text": [
      "2023-11-08 00:27:07.019509: I tensorflow/core/util/port.cc:111] oneDNN custom operations are on. You may see slightly different numerical results due to floating-point round-off errors from different computation orders. To turn them off, set the environment variable `TF_ENABLE_ONEDNN_OPTS=0`.\n",
      "2023-11-08 00:27:07.053807: E tensorflow/compiler/xla/stream_executor/cuda/cuda_dnn.cc:9342] Unable to register cuDNN factory: Attempting to register factory for plugin cuDNN when one has already been registered\n",
      "2023-11-08 00:27:07.053837: E tensorflow/compiler/xla/stream_executor/cuda/cuda_fft.cc:609] Unable to register cuFFT factory: Attempting to register factory for plugin cuFFT when one has already been registered\n",
      "2023-11-08 00:27:07.053852: E tensorflow/compiler/xla/stream_executor/cuda/cuda_blas.cc:1518] Unable to register cuBLAS factory: Attempting to register factory for plugin cuBLAS when one has already been registered\n",
      "2023-11-08 00:27:07.060000: I tensorflow/core/platform/cpu_feature_guard.cc:182] This TensorFlow binary is optimized to use available CPU instructions in performance-critical operations.\n",
      "To enable the following instructions: AVX2 AVX_VNNI FMA, in other operations, rebuild TensorFlow with the appropriate compiler flags.\n"
     ]
    }
   ],
   "source": [
    "import utils\n",
    "import models"
   ]
  },
  {
   "cell_type": "code",
   "execution_count": 5,
   "id": "7b54739b-af94-413c-aa1b-27d5039bd0ad",
   "metadata": {},
   "outputs": [],
   "source": [
    "import time\n",
    "import numpy as np\n",
    "import matplotlib.pyplot as plt\n",
    "%matplotlib inline\n",
    "from sklearn.model_selection import train_test_split\n",
    "from sklearn.metrics import confusion_matrix, classification_report\n",
    "import tensorflow as tf"
   ]
  },
  {
   "cell_type": "markdown",
   "id": "40aa210d-5e3c-4dcd-bff3-5130a0b9cb31",
   "metadata": {},
   "source": [
    "# Data Load"
   ]
  },
  {
   "cell_type": "code",
   "execution_count": 6,
   "id": "e0e8ce5d-0845-428e-b030-9af626ff20f6",
   "metadata": {},
   "outputs": [
    {
     "data": {
      "text/plain": [
       "'\\ntrain_fasion_mnist = tfds.as_numpy(tfds.load(\"fashion_mnist\", split=\"train\", batch_size=-1))\\nX_train, y_train   = train_fasion_mnist[\"image\"], train_fasion_mnist[\"label\"]\\n\\n# Test\\ntest_fasion_mnist  = tfds.as_numpy(tfds.load(\"fashion_mnist\", split=\"test\", batch_size=-1))\\nX_test, y_test     = test_fasion_mnist[\"image\"], test_fasion_mnist[\"label\"]\\n\\nprint(\"Train Samples:\", len(X_train))\\nprint(\"Test Samples:\",  len(X_test))\\n'"
      ]
     },
     "execution_count": 6,
     "metadata": {},
     "output_type": "execute_result"
    }
   ],
   "source": [
    "\"\"\"\n",
    "train_fasion_mnist = tfds.as_numpy(tfds.load(\"fashion_mnist\", split=\"train\", batch_size=-1))\n",
    "X_train, y_train   = train_fasion_mnist[\"image\"], train_fasion_mnist[\"label\"]\n",
    "\n",
    "# Test\n",
    "test_fasion_mnist  = tfds.as_numpy(tfds.load(\"fashion_mnist\", split=\"test\", batch_size=-1))\n",
    "X_test, y_test     = test_fasion_mnist[\"image\"], test_fasion_mnist[\"label\"]\n",
    "\n",
    "print(\"Train Samples:\", len(X_train))\n",
    "print(\"Test Samples:\",  len(X_test))\n",
    "\"\"\""
   ]
  },
  {
   "cell_type": "code",
   "execution_count": 7,
   "id": "9af1024e-585e-4c2e-866f-a02fb62bbba2",
   "metadata": {},
   "outputs": [],
   "source": [
    "X_train = np.load('X_train.npy')\n",
    "X_test = np.load('X_test.npy')\n",
    "y_train = np.load('y_train.npy')\n",
    "y_test = np.load('y_test.npy')"
   ]
  },
  {
   "cell_type": "code",
   "execution_count": 8,
   "id": "68a7203a-1fcc-439b-b640-c5ba0f6c28ff",
   "metadata": {},
   "outputs": [
    {
     "data": {
      "text/plain": [
       "(60000, 28, 28, 1)"
      ]
     },
     "execution_count": 8,
     "metadata": {},
     "output_type": "execute_result"
    }
   ],
   "source": [
    "X_train.shape"
   ]
  },
  {
   "cell_type": "code",
   "execution_count": 9,
   "id": "43b96b4e-63f6-4ec0-9ba7-29ae0f96be74",
   "metadata": {},
   "outputs": [
    {
     "data": {
      "text/plain": [
       "(10000, 28, 28, 1)"
      ]
     },
     "execution_count": 9,
     "metadata": {},
     "output_type": "execute_result"
    }
   ],
   "source": [
    "X_test.shape"
   ]
  },
  {
   "cell_type": "code",
   "execution_count": 10,
   "id": "489ba81a-dd7c-448e-85b9-393458374988",
   "metadata": {},
   "outputs": [
    {
     "data": {
      "text/plain": [
       "(60000,)"
      ]
     },
     "execution_count": 10,
     "metadata": {},
     "output_type": "execute_result"
    }
   ],
   "source": [
    "y_train.shape"
   ]
  },
  {
   "cell_type": "code",
   "execution_count": 11,
   "id": "564d0487-30d0-4df3-8133-9e04e4c67523",
   "metadata": {},
   "outputs": [
    {
     "data": {
      "text/plain": [
       "(10000,)"
      ]
     },
     "execution_count": 11,
     "metadata": {},
     "output_type": "execute_result"
    }
   ],
   "source": [
    "y_test.shape"
   ]
  },
  {
   "cell_type": "code",
   "execution_count": 12,
   "id": "6d941bc5-8133-4e5d-b868-6d9e5acc7959",
   "metadata": {},
   "outputs": [
    {
     "name": "stdout",
     "output_type": "stream",
     "text": [
      "Train Samples: 60000\n",
      "Test Samples: 10000\n"
     ]
    }
   ],
   "source": [
    "print(\"Train Samples:\", len(X_train))\n",
    "print(\"Test Samples:\",  len(X_test))"
   ]
  },
  {
   "cell_type": "code",
   "execution_count": 13,
   "id": "d99f473c-b8bf-4ff2-9cef-f1af40fb2a6a",
   "metadata": {},
   "outputs": [],
   "source": [
    "#######################\n",
    "# Dimension of images #\n",
    "#######################\n",
    "img_width  = 28\n",
    "img_height = 28\n",
    "channels   = 1\n",
    "\n",
    "image_shape = (img_height, img_width, channels)\n",
    "\n",
    "######################\n",
    "# Parms for learning #\n",
    "######################\n",
    "batch_size = 30\n",
    "num_epochs = 100\n",
    "iterations = 1          # number of iterations\n",
    "nb_augmentation = 2     # defines the number of additional augmentations of one image\n",
    "\n",
    "####################\n",
    "#       Data       #\n",
    "####################\n",
    "fashion_classes     = {0: 'T-shirt/top',\n",
    "                       1: 'Trouser',\n",
    "                       2: 'Pullover',\n",
    "                       3: 'Dress',\n",
    "                       4: 'Coat',\n",
    "                       5: 'Sandal',\n",
    "                       6: 'Shirt',\n",
    "                       7: 'Sneaker',\n",
    "                       8: 'Bag',\n",
    "                       9: 'Ankle boot'}\n",
    "\n",
    "mnist_classes       = [i for i in range(10)]\n",
    "num_classes         = 10"
   ]
  },
  {
   "cell_type": "markdown",
   "id": "5c9522f7-4732-46ea-9e9a-223b9fe238bf",
   "metadata": {},
   "source": [
    "## Plot Random Samples"
   ]
  },
  {
   "cell_type": "code",
   "execution_count": 14,
   "id": "b7f0c162-5136-4574-9120-d556a46c91cf",
   "metadata": {},
   "outputs": [
    {
     "data": {
      "image/png": "[encoded data removed]",
      "text/plain": [
       "<Figure size 640x480 with 1 Axes>"
      ]
     },
     "metadata": {},
     "output_type": "display_data"
    },
    {
     "name": "stdout",
     "output_type": "stream",
     "text": [
      "Target: Dress\n"
     ]
    }
   ],
   "source": [
    "idx = np.random.randint(len(X_train))\n",
    "plt.imshow(np.squeeze(X_train[idx]), cmap='gray')\n",
    "plt.axis('off')\n",
    "plt.show()\n",
    "\n",
    "print(\"Target:\", fashion_classes[y_train[idx]])"
   ]
  },
  {
   "cell_type": "markdown",
   "id": "1f9bf654-c163-4636-b9c2-c8b41a4ed4b6",
   "metadata": {},
   "source": [
    "## Data Augmentation and Pre-Processing"
   ]
  },
  {
   "cell_type": "code",
   "execution_count": 15,
   "id": "69405735-f1aa-4fec-a5cc-7e9f3154d99b",
   "metadata": {
    "scrolled": true
   },
   "outputs": [
    {
     "name": "stdout",
     "output_type": "stream",
     "text": [
      "*Preprocessing completed: 180000 samples\n",
      "\n",
      "*Preprocessing completed: 10000 samples\n",
      "\n"
     ]
    }
   ],
   "source": [
    "X_train_shaped, y_train_shaped = utils.preprocess_data(\n",
    "    X_train, y_train,\n",
    "    use_augmentation=True,\n",
    "    nb_of_augmentation=nb_augmentation\n",
    ")\n",
    "\n",
    "X_test_shaped, y_test_shaped = utils.preprocess_data(X_test, y_test)"
   ]
  },
  {
   "cell_type": "markdown",
   "id": "d56a3b67-c768-4eab-880a-c94fce6f47fc",
   "metadata": {},
   "source": [
    "# Train"
   ]
  },
  {
   "cell_type": "code",
   "execution_count": 16,
   "id": "72040490-035a-40bb-971d-46f6f4ccb9f2",
   "metadata": {},
   "outputs": [
    {
     "name": "stdout",
     "output_type": "stream",
     "text": [
      "Running iteration: 0\n"
     ]
    },
    {
     "name": "stderr",
     "output_type": "stream",
     "text": [
      "2023-11-07 20:49:15.640078: I tensorflow/compiler/xla/stream_executor/cuda/cuda_gpu_executor.cc:880] could not open file to read NUMA node: /sys/bus/pci/devices/0000:01:00.0/numa_node\n",
      "Your kernel may have been built without NUMA support.\n",
      "2023-11-07 20:49:15.672325: I tensorflow/compiler/xla/stream_executor/cuda/cuda_gpu_executor.cc:880] could not open file to read NUMA node: /sys/bus/pci/devices/0000:01:00.0/numa_node\n",
      "Your kernel may have been built without NUMA support.\n",
      "2023-11-07 20:49:15.672361: I tensorflow/compiler/xla/stream_executor/cuda/cuda_gpu_executor.cc:880] could not open file to read NUMA node: /sys/bus/pci/devices/0000:01:00.0/numa_node\n",
      "Your kernel may have been built without NUMA support.\n",
      "2023-11-07 20:49:15.676239: I tensorflow/compiler/xla/stream_executor/cuda/cuda_gpu_executor.cc:880] could not open file to read NUMA node: /sys/bus/pci/devices/0000:01:00.0/numa_node\n",
      "Your kernel may have been built without NUMA support.\n",
      "2023-11-07 20:49:15.676294: I tensorflow/compiler/xla/stream_executor/cuda/cuda_gpu_executor.cc:880] could not open file to read NUMA node: /sys/bus/pci/devices/0000:01:00.0/numa_node\n",
      "Your kernel may have been built without NUMA support.\n",
      "2023-11-07 20:49:15.676311: I tensorflow/compiler/xla/stream_executor/cuda/cuda_gpu_executor.cc:880] could not open file to read NUMA node: /sys/bus/pci/devices/0000:01:00.0/numa_node\n",
      "Your kernel may have been built without NUMA support.\n",
      "2023-11-07 20:49:16.084335: I tensorflow/compiler/xla/stream_executor/cuda/cuda_gpu_executor.cc:880] could not open file to read NUMA node: /sys/bus/pci/devices/0000:01:00.0/numa_node\n",
      "Your kernel may have been built without NUMA support.\n",
      "2023-11-07 20:49:16.084407: I tensorflow/compiler/xla/stream_executor/cuda/cuda_gpu_executor.cc:880] could not open file to read NUMA node: /sys/bus/pci/devices/0000:01:00.0/numa_node\n",
      "Your kernel may have been built without NUMA support.\n",
      "2023-11-07 20:49:16.084417: I tensorflow/core/common_runtime/gpu/gpu_device.cc:1977] Could not identify NUMA node of platform GPU id 0, defaulting to 0.  Your kernel may not have been built with NUMA support.\n",
      "2023-11-07 20:49:16.084453: I tensorflow/compiler/xla/stream_executor/cuda/cuda_gpu_executor.cc:880] could not open file to read NUMA node: /sys/bus/pci/devices/0000:01:00.0/numa_node\n",
      "Your kernel may have been built without NUMA support.\n",
      "2023-11-07 20:49:16.084488: I tensorflow/core/common_runtime/gpu/gpu_device.cc:1886] Created device /job:localhost/replica:0/task:0/device:GPU:0 with 5578 MB memory:  -> device: 0, name: NVIDIA GeForce RTX 4060 Laptop GPU, pci bus id: 0000:01:00.0, compute capability: 8.9\n"
     ]
    },
    {
     "name": "stdout",
     "output_type": "stream",
     "text": [
      "Epoch 1/100\n"
     ]
    },
    {
     "name": "stderr",
     "output_type": "stream",
     "text": [
      "2023-11-07 20:49:25.820612: I tensorflow/compiler/xla/stream_executor/cuda/cuda_dnn.cc:442] Loaded cuDNN version 8700\n",
      "2023-11-07 20:49:28.078172: I tensorflow/compiler/xla/service/service.cc:168] XLA service 0x7f347987b650 initialized for platform CUDA (this does not guarantee that XLA will be used). Devices:\n",
      "2023-11-07 20:49:28.078213: I tensorflow/compiler/xla/service/service.cc:176]   StreamExecutor device (0): NVIDIA GeForce RTX 4060 Laptop GPU, Compute Capability 8.9\n",
      "2023-11-07 20:49:28.087631: I tensorflow/compiler/mlir/tensorflow/utils/dump_mlir_util.cc:269] disabling MLIR crash reproducer, set env var `MLIR_CRASH_REPRODUCER_DIRECTORY` to enable.\n",
      "2023-11-07 20:49:28.190636: I ./tensorflow/compiler/jit/device_compiler.h:186] Compiled cluster using XLA!  This line is logged at most once for the lifetime of the process.\n"
     ]
    },
    {
     "name": "stdout",
     "output_type": "stream",
     "text": [
      "4799/4800 [============================>.] - ETA: 0s - loss: 0.9167 - accuracy: 0.7000\n",
      "Epoch 1: val_loss improved from inf to 0.51264, saving model to fashion_mnist_ResNet50-0.hdf5\n"
     ]
    },
    {
     "name": "stderr",
     "output_type": "stream",
     "text": [
      "/home/srijan/.local/lib/python3.10/site-packages/keras/src/engine/training.py:3079: UserWarning: You are saving your model as an HDF5 file via `model.save()`. This file format is considered legacy. We recommend using instead the native Keras format, e.g. `model.save('my_model.keras')`.\n",
      "  saving_api.save_model(\n"
     ]
    },
    {
     "name": "stdout",
     "output_type": "stream",
     "text": [
      "4800/4800 [==============================] - 202s 38ms/step - loss: 0.9166 - accuracy: 0.7000 - val_loss: 0.5126 - val_accuracy: 0.8129\n",
      "Epoch 2/100\n",
      "4799/4800 [============================>.] - ETA: 0s - loss: 0.4929 - accuracy: 0.8225\n",
      "Epoch 2: val_loss improved from 0.51264 to 0.45544, saving model to fashion_mnist_ResNet50-0.hdf5\n",
      "4800/4800 [==============================] - 190s 40ms/step - loss: 0.4928 - accuracy: 0.8225 - val_loss: 0.4554 - val_accuracy: 0.8339\n",
      "Epoch 3/100\n",
      "4800/4800 [==============================] - ETA: 0s - loss: 0.4425 - accuracy: 0.8454\n",
      "Epoch 3: val_loss improved from 0.45544 to 0.42184, saving model to fashion_mnist_ResNet50-0.hdf5\n",
      "4800/4800 [==============================] - 188s 39ms/step - loss: 0.4425 - accuracy: 0.8454 - val_loss: 0.4218 - val_accuracy: 0.8477\n",
      "Epoch 4/100\n",
      "4799/4800 [============================>.] - ETA: 0s - loss: 0.3708 - accuracy: 0.8670\n",
      "Epoch 4: val_loss improved from 0.42184 to 0.37537, saving model to fashion_mnist_ResNet50-0.hdf5\n",
      "4800/4800 [==============================] - 188s 39ms/step - loss: 0.3708 - accuracy: 0.8670 - val_loss: 0.3754 - val_accuracy: 0.8678\n",
      "Epoch 5/100\n",
      "4800/4800 [==============================] - ETA: 0s - loss: 0.3340 - accuracy: 0.8803\n",
      "Epoch 5: val_loss improved from 0.37537 to 0.31757, saving model to fashion_mnist_ResNet50-0.hdf5\n",
      "4800/4800 [==============================] - 192s 40ms/step - loss: 0.3340 - accuracy: 0.8803 - val_loss: 0.3176 - val_accuracy: 0.8839\n",
      "Epoch 6/100\n",
      "4800/4800 [==============================] - ETA: 0s - loss: 0.3074 - accuracy: 0.8908\n",
      "Epoch 6: val_loss improved from 0.31757 to 0.28476, saving model to fashion_mnist_ResNet50-0.hdf5\n",
      "4800/4800 [==============================] - 190s 40ms/step - loss: 0.3074 - accuracy: 0.8908 - val_loss: 0.2848 - val_accuracy: 0.8949\n",
      "Epoch 7/100\n",
      "4800/4800 [==============================] - ETA: 0s - loss: 0.2762 - accuracy: 0.9000\n",
      "Epoch 7: val_loss improved from 0.28476 to 0.27641, saving model to fashion_mnist_ResNet50-0.hdf5\n",
      "4800/4800 [==============================] - 206s 43ms/step - loss: 0.2762 - accuracy: 0.9000 - val_loss: 0.2764 - val_accuracy: 0.9001\n",
      "Epoch 8/100\n",
      "4800/4800 [==============================] - ETA: 0s - loss: 0.2854 - accuracy: 0.8998\n",
      "Epoch 8: val_loss improved from 0.27641 to 0.26407, saving model to fashion_mnist_ResNet50-0.hdf5\n",
      "4800/4800 [==============================] - 203s 42ms/step - loss: 0.2854 - accuracy: 0.8998 - val_loss: 0.2641 - val_accuracy: 0.9028\n",
      "Epoch 9/100\n",
      "4799/4800 [============================>.] - ETA: 0s - loss: 0.2506 - accuracy: 0.9086\n",
      "Epoch 9: val_loss did not improve from 0.26407\n",
      "4800/4800 [==============================] - 176s 37ms/step - loss: 0.2506 - accuracy: 0.9086 - val_loss: 0.2735 - val_accuracy: 0.9014\n",
      "Epoch 10/100\n",
      "4799/4800 [============================>.] - ETA: 0s - loss: 0.2725 - accuracy: 0.9046\n",
      "Epoch 10: val_loss did not improve from 0.26407\n",
      "4800/4800 [==============================] - 175s 37ms/step - loss: 0.2724 - accuracy: 0.9046 - val_loss: 0.2863 - val_accuracy: 0.8981\n",
      "Epoch 11/100\n",
      "4799/4800 [============================>.] - ETA: 0s - loss: 0.2334 - accuracy: 0.9154\n",
      "Epoch 11: val_loss improved from 0.26407 to 0.24896, saving model to fashion_mnist_ResNet50-0.hdf5\n",
      "4800/4800 [==============================] - 174s 36ms/step - loss: 0.2334 - accuracy: 0.9154 - val_loss: 0.2490 - val_accuracy: 0.9099\n",
      "Epoch 12/100\n",
      "4800/4800 [==============================] - ETA: 0s - loss: 0.2384 - accuracy: 0.9151\n",
      "Epoch 12: val_loss improved from 0.24896 to 0.23744, saving model to fashion_mnist_ResNet50-0.hdf5\n",
      "4800/4800 [==============================] - 175s 36ms/step - loss: 0.2384 - accuracy: 0.9151 - val_loss: 0.2374 - val_accuracy: 0.9118\n",
      "Epoch 13/100\n",
      "4799/4800 [============================>.] - ETA: 0s - loss: 0.2140 - accuracy: 0.9223\n",
      "Epoch 13: val_loss did not improve from 0.23744\n",
      "4800/4800 [==============================] - 172s 36ms/step - loss: 0.2139 - accuracy: 0.9223 - val_loss: 0.2603 - val_accuracy: 0.9068\n",
      "Epoch 14/100\n",
      "4799/4800 [============================>.] - ETA: 0s - loss: 0.2192 - accuracy: 0.9221\n",
      "Epoch 14: val_loss improved from 0.23744 to 0.22953, saving model to fashion_mnist_ResNet50-0.hdf5\n",
      "4800/4800 [==============================] - 175s 36ms/step - loss: 0.2193 - accuracy: 0.9221 - val_loss: 0.2295 - val_accuracy: 0.9156\n",
      "Epoch 15/100\n",
      "4799/4800 [============================>.] - ETA: 0s - loss: 0.2073 - accuracy: 0.9267\n",
      "Epoch 15: val_loss did not improve from 0.22953\n",
      "4800/4800 [==============================] - 173s 36ms/step - loss: 0.2073 - accuracy: 0.9267 - val_loss: 0.2313 - val_accuracy: 0.9151\n",
      "Epoch 16/100\n",
      "4800/4800 [==============================] - ETA: 0s - loss: 0.2055 - accuracy: 0.9257\n",
      "Epoch 16: val_loss did not improve from 0.22953\n",
      "4800/4800 [==============================] - 168s 35ms/step - loss: 0.2055 - accuracy: 0.9257 - val_loss: 0.2341 - val_accuracy: 0.9155\n",
      "Epoch 17/100\n",
      "4800/4800 [==============================] - ETA: 0s - loss: 0.1847 - accuracy: 0.9333\n",
      "Epoch 17: val_loss improved from 0.22953 to 0.22520, saving model to fashion_mnist_ResNet50-0.hdf5\n",
      "4800/4800 [==============================] - 171s 36ms/step - loss: 0.1847 - accuracy: 0.9333 - val_loss: 0.2252 - val_accuracy: 0.9190\n",
      "Epoch 18/100\n",
      "4800/4800 [==============================] - ETA: 0s - loss: 0.1760 - accuracy: 0.9354\n",
      "Epoch 18: val_loss improved from 0.22520 to 0.22318, saving model to fashion_mnist_ResNet50-0.hdf5\n",
      "4800/4800 [==============================] - 167s 35ms/step - loss: 0.1760 - accuracy: 0.9354 - val_loss: 0.2232 - val_accuracy: 0.9222\n",
      "Epoch 19/100\n",
      "4800/4800 [==============================] - ETA: 0s - loss: 0.1742 - accuracy: 0.9367\n",
      "Epoch 19: val_loss did not improve from 0.22318\n",
      "4800/4800 [==============================] - 162s 34ms/step - loss: 0.1742 - accuracy: 0.9367 - val_loss: 0.2390 - val_accuracy: 0.9198\n",
      "Epoch 20/100\n",
      "4800/4800 [==============================] - ETA: 0s - loss: 0.1850 - accuracy: 0.9359\n",
      "Epoch 20: val_loss improved from 0.22318 to 0.21169, saving model to fashion_mnist_ResNet50-0.hdf5\n",
      "4800/4800 [==============================] - 166s 35ms/step - loss: 0.1850 - accuracy: 0.9359 - val_loss: 0.2117 - val_accuracy: 0.9268\n",
      "Epoch 21/100\n",
      "4799/4800 [============================>.] - ETA: 0s - loss: 0.1552 - accuracy: 0.9423\n",
      "Epoch 21: val_loss did not improve from 0.21169\n",
      "4800/4800 [==============================] - 163s 34ms/step - loss: 0.1552 - accuracy: 0.9422 - val_loss: 0.2336 - val_accuracy: 0.9202\n",
      "Epoch 22/100\n",
      "4800/4800 [==============================] - ETA: 0s - loss: 0.1877 - accuracy: 0.9397\n",
      "Epoch 22: val_loss did not improve from 0.21169\n",
      "4800/4800 [==============================] - 164s 34ms/step - loss: 0.1877 - accuracy: 0.9397 - val_loss: 0.3072 - val_accuracy: 0.8987\n",
      "Epoch 23/100\n",
      "4800/4800 [==============================] - ETA: 0s - loss: 0.1571 - accuracy: 0.9423\n",
      "Epoch 23: val_loss improved from 0.21169 to 0.19984, saving model to fashion_mnist_ResNet50-0.hdf5\n",
      "4800/4800 [==============================] - 169s 35ms/step - loss: 0.1571 - accuracy: 0.9423 - val_loss: 0.1998 - val_accuracy: 0.9307\n",
      "Epoch 24/100\n",
      "4800/4800 [==============================] - ETA: 0s - loss: 0.1932 - accuracy: 0.9369\n",
      "Epoch 24: val_loss did not improve from 0.19984\n",
      "4800/4800 [==============================] - 165s 34ms/step - loss: 0.1932 - accuracy: 0.9369 - val_loss: 0.2480 - val_accuracy: 0.9113\n",
      "Epoch 25/100\n",
      "4799/4800 [============================>.] - ETA: 0s - loss: 0.1646 - accuracy: 0.9426\n",
      "Epoch 25: val_loss did not improve from 0.19984\n",
      "4800/4800 [==============================] - 164s 34ms/step - loss: 0.1646 - accuracy: 0.9425 - val_loss: 0.2273 - val_accuracy: 0.9219\n",
      "Epoch 26/100\n",
      "4800/4800 [==============================] - ETA: 0s - loss: 0.1603 - accuracy: 0.9437\n",
      "Epoch 26: val_loss did not improve from 0.19984\n",
      "4800/4800 [==============================] - 166s 35ms/step - loss: 0.1603 - accuracy: 0.9437 - val_loss: 0.2490 - val_accuracy: 0.9169\n",
      "Epoch 27/100\n",
      "4799/4800 [============================>.] - ETA: 0s - loss: 0.1343 - accuracy: 0.9507\n",
      "Epoch 27: val_loss did not improve from 0.19984\n",
      "4800/4800 [==============================] - 164s 34ms/step - loss: 0.1343 - accuracy: 0.9507 - val_loss: 0.2211 - val_accuracy: 0.9238\n",
      "Epoch 28/100\n",
      "4800/4800 [==============================] - ETA: 0s - loss: 0.1305 - accuracy: 0.9520\n",
      "Epoch 28: val_loss did not improve from 0.19984\n",
      "4800/4800 [==============================] - 163s 34ms/step - loss: 0.1305 - accuracy: 0.9520 - val_loss: 0.2217 - val_accuracy: 0.9262\n",
      "Epoch 29/100\n",
      "4799/4800 [============================>.] - ETA: 0s - loss: 0.1444 - accuracy: 0.9504\n",
      "Epoch 29: val_loss did not improve from 0.19984\n",
      "4800/4800 [==============================] - 165s 34ms/step - loss: 0.1443 - accuracy: 0.9504 - val_loss: 0.2152 - val_accuracy: 0.9284\n",
      "Epoch 30/100\n",
      "4799/4800 [============================>.] - ETA: 0s - loss: 0.1198 - accuracy: 0.9560\n",
      "Epoch 30: val_loss did not improve from 0.19984\n",
      "4800/4800 [==============================] - 165s 34ms/step - loss: 0.1198 - accuracy: 0.9560 - val_loss: 0.2093 - val_accuracy: 0.9306\n",
      "Epoch 31/100\n",
      "4799/4800 [============================>.] - ETA: 0s - loss: 0.1172 - accuracy: 0.9571\n",
      "Epoch 31: val_loss did not improve from 0.19984\n",
      "4800/4800 [==============================] - 164s 34ms/step - loss: 0.1172 - accuracy: 0.9571 - val_loss: 0.2170 - val_accuracy: 0.9295\n",
      "Epoch 32/100\n",
      "4799/4800 [============================>.] - ETA: 0s - loss: 0.1215 - accuracy: 0.9566\n",
      "Epoch 32: val_loss did not improve from 0.19984\n",
      "4800/4800 [==============================] - 166s 34ms/step - loss: 0.1215 - accuracy: 0.9566 - val_loss: 0.2003 - val_accuracy: 0.9355\n",
      "Epoch 33/100\n",
      "4799/4800 [============================>.] - ETA: 0s - loss: 0.1026 - accuracy: 0.9625\n",
      "Epoch 33: val_loss did not improve from 0.19984\n",
      "4800/4800 [==============================] - 167s 35ms/step - loss: 0.1025 - accuracy: 0.9625 - val_loss: 0.2125 - val_accuracy: 0.9352\n",
      "Epoch 34/100\n",
      "4799/4800 [============================>.] - ETA: 0s - loss: 0.1055 - accuracy: 0.9616\n",
      "Epoch 34: val_loss improved from 0.19984 to 0.18933, saving model to fashion_mnist_ResNet50-0.hdf5\n",
      "4800/4800 [==============================] - 166s 35ms/step - loss: 0.1055 - accuracy: 0.9615 - val_loss: 0.1893 - val_accuracy: 0.9370\n",
      "Epoch 35/100\n",
      "4799/4800 [============================>.] - ETA: 0s - loss: 0.1000 - accuracy: 0.9637\n",
      "Epoch 35: val_loss did not improve from 0.18933\n",
      "4800/4800 [==============================] - 166s 35ms/step - loss: 0.1000 - accuracy: 0.9637 - val_loss: 0.2498 - val_accuracy: 0.9233\n",
      "Epoch 36/100\n",
      "4800/4800 [==============================] - ETA: 0s - loss: 0.0945 - accuracy: 0.9651\n",
      "Epoch 36: val_loss did not improve from 0.18933\n",
      "4800/4800 [==============================] - 168s 35ms/step - loss: 0.0945 - accuracy: 0.9651 - val_loss: 0.2011 - val_accuracy: 0.9365\n",
      "Epoch 37/100\n",
      "4800/4800 [==============================] - ETA: 0s - loss: 0.0893 - accuracy: 0.9675\n",
      "Epoch 37: val_loss did not improve from 0.18933\n",
      "4800/4800 [==============================] - 166s 35ms/step - loss: 0.0893 - accuracy: 0.9675 - val_loss: 0.3573 - val_accuracy: 0.9009\n",
      "Epoch 38/100\n",
      "4800/4800 [==============================] - ETA: 0s - loss: 0.1018 - accuracy: 0.9635\n",
      "Epoch 38: val_loss did not improve from 0.18933\n",
      "4800/4800 [==============================] - 166s 35ms/step - loss: 0.1018 - accuracy: 0.9635 - val_loss: 0.2048 - val_accuracy: 0.9384\n",
      "Epoch 39/100\n",
      "4800/4800 [==============================] - ETA: 0s - loss: 0.0763 - accuracy: 0.9723\n",
      "Epoch 39: val_loss did not improve from 0.18933\n",
      "4800/4800 [==============================] - 168s 35ms/step - loss: 0.0763 - accuracy: 0.9723 - val_loss: 0.1983 - val_accuracy: 0.9379\n",
      "Epoch 40/100\n",
      "4799/4800 [============================>.] - ETA: 0s - loss: 0.0825 - accuracy: 0.9697\n",
      "Epoch 40: val_loss did not improve from 0.18933\n",
      "4800/4800 [==============================] - 167s 35ms/step - loss: 0.0825 - accuracy: 0.9697 - val_loss: 0.2254 - val_accuracy: 0.9389\n",
      "Epoch 41/100\n",
      "4799/4800 [============================>.] - ETA: 0s - loss: 0.0782 - accuracy: 0.9720\n",
      "Epoch 41: val_loss did not improve from 0.18933\n",
      "4800/4800 [==============================] - 168s 35ms/step - loss: 0.0782 - accuracy: 0.9720 - val_loss: 0.2232 - val_accuracy: 0.9404\n",
      "Epoch 42/100\n",
      "4800/4800 [==============================] - ETA: 0s - loss: 0.1175 - accuracy: 0.9615\n",
      "Epoch 42: val_loss did not improve from 0.18933\n",
      "4800/4800 [==============================] - 176s 37ms/step - loss: 0.1175 - accuracy: 0.9615 - val_loss: 0.2068 - val_accuracy: 0.9402\n",
      "Epoch 43/100\n",
      "4799/4800 [============================>.] - ETA: 0s - loss: 0.0879 - accuracy: 0.9710\n",
      "Epoch 43: val_loss did not improve from 0.18933\n",
      "4800/4800 [==============================] - 166s 35ms/step - loss: 0.0879 - accuracy: 0.9710 - val_loss: 0.2230 - val_accuracy: 0.9305\n",
      "Epoch 44/100\n",
      "4800/4800 [==============================] - ETA: 0s - loss: 0.0739 - accuracy: 0.9728\n",
      "Epoch 44: val_loss did not improve from 0.18933\n",
      "4800/4800 [==============================] - 167s 35ms/step - loss: 0.0739 - accuracy: 0.9728 - val_loss: 0.2036 - val_accuracy: 0.9388\n",
      "Epoch 45/100\n",
      "4799/4800 [============================>.] - ETA: 0s - loss: 0.0712 - accuracy: 0.9737\n",
      "Epoch 45: val_loss did not improve from 0.18933\n",
      "4800/4800 [==============================] - 166s 35ms/step - loss: 0.0712 - accuracy: 0.9737 - val_loss: 0.2245 - val_accuracy: 0.9371\n",
      "Epoch 46/100\n",
      "4800/4800 [==============================] - ETA: 0s - loss: 0.0904 - accuracy: 0.9704\n",
      "Epoch 46: val_loss did not improve from 0.18933\n",
      "4800/4800 [==============================] - 166s 35ms/step - loss: 0.0904 - accuracy: 0.9704 - val_loss: 0.2088 - val_accuracy: 0.9416\n",
      "Epoch 47/100\n",
      "4800/4800 [==============================] - ETA: 0s - loss: 0.0652 - accuracy: 0.9762\n",
      "Epoch 47: val_loss did not improve from 0.18933\n",
      "4800/4800 [==============================] - 166s 34ms/step - loss: 0.0652 - accuracy: 0.9762 - val_loss: 0.2504 - val_accuracy: 0.9378\n",
      "Epoch 48/100\n",
      "4800/4800 [==============================] - ETA: 0s - loss: 0.0686 - accuracy: 0.9753\n",
      "Epoch 48: val_loss did not improve from 0.18933\n",
      "4800/4800 [==============================] - 167s 35ms/step - loss: 0.0686 - accuracy: 0.9753 - val_loss: 0.2071 - val_accuracy: 0.9412\n",
      "Epoch 49/100\n",
      "4799/4800 [============================>.] - ETA: 0s - loss: 0.0632 - accuracy: 0.9772\n",
      "Epoch 49: val_loss did not improve from 0.18933\n",
      "4800/4800 [==============================] - 168s 35ms/step - loss: 0.0632 - accuracy: 0.9772 - val_loss: 0.2112 - val_accuracy: 0.9414\n",
      "Epoch 50/100\n",
      "4800/4800 [==============================] - ETA: 0s - loss: 0.0634 - accuracy: 0.9771\n",
      "Epoch 50: val_loss did not improve from 0.18933\n",
      "4800/4800 [==============================] - 165s 34ms/step - loss: 0.0634 - accuracy: 0.9771 - val_loss: 0.2221 - val_accuracy: 0.9427\n",
      "Epoch 51/100\n",
      "4799/4800 [============================>.] - ETA: 0s - loss: 0.0612 - accuracy: 0.9777\n",
      "Epoch 51: val_loss did not improve from 0.18933\n",
      "4800/4800 [==============================] - 168s 35ms/step - loss: 0.0613 - accuracy: 0.9777 - val_loss: 0.2270 - val_accuracy: 0.9434\n",
      "Epoch 52/100\n",
      "4800/4800 [==============================] - ETA: 0s - loss: 0.0706 - accuracy: 0.9763\n",
      "Epoch 52: val_loss did not improve from 0.18933\n",
      "4800/4800 [==============================] - 169s 35ms/step - loss: 0.0706 - accuracy: 0.9763 - val_loss: 0.2091 - val_accuracy: 0.9441\n",
      "Epoch 53/100\n",
      "4800/4800 [==============================] - ETA: 0s - loss: 0.0601 - accuracy: 0.9792\n",
      "Epoch 53: val_loss did not improve from 0.18933\n",
      "4800/4800 [==============================] - 166s 34ms/step - loss: 0.0601 - accuracy: 0.9792 - val_loss: 0.2192 - val_accuracy: 0.9421\n",
      "Epoch 54/100\n",
      "4799/4800 [============================>.] - ETA: 0s - loss: 0.0560 - accuracy: 0.9801\n",
      "Epoch 54: val_loss did not improve from 0.18933\n",
      "4800/4800 [==============================] - 166s 35ms/step - loss: 0.0560 - accuracy: 0.9801 - val_loss: 0.2329 - val_accuracy: 0.9409\n",
      "Epoch 55/100\n",
      "4800/4800 [==============================] - ETA: 0s - loss: 0.0553 - accuracy: 0.9811\n",
      "Epoch 55: val_loss did not improve from 0.18933\n",
      "4800/4800 [==============================] - 168s 35ms/step - loss: 0.0553 - accuracy: 0.9811 - val_loss: 0.2098 - val_accuracy: 0.9434\n",
      "Epoch 56/100\n",
      "4800/4800 [==============================] - ETA: 0s - loss: 0.0536 - accuracy: 0.9809\n",
      "Epoch 56: val_loss did not improve from 0.18933\n",
      "4800/4800 [==============================] - 167s 35ms/step - loss: 0.0536 - accuracy: 0.9809 - val_loss: 0.2231 - val_accuracy: 0.9381\n",
      "Epoch 57/100\n",
      "4800/4800 [==============================] - ETA: 0s - loss: 0.0508 - accuracy: 0.9820\n",
      "Epoch 57: val_loss did not improve from 0.18933\n",
      "4800/4800 [==============================] - 165s 34ms/step - loss: 0.0508 - accuracy: 0.9820 - val_loss: 0.2368 - val_accuracy: 0.9426\n",
      "Epoch 58/100\n",
      "4800/4800 [==============================] - ETA: 0s - loss: 0.0509 - accuracy: 0.9823\n",
      "Epoch 58: val_loss did not improve from 0.18933\n",
      "4800/4800 [==============================] - 168s 35ms/step - loss: 0.0509 - accuracy: 0.9823 - val_loss: 0.2270 - val_accuracy: 0.9413\n",
      "Epoch 59/100\n",
      "4800/4800 [==============================] - ETA: 0s - loss: 0.0814 - accuracy: 0.9763\n",
      "Epoch 59: val_loss did not improve from 0.18933\n",
      "4800/4800 [==============================] - 168s 35ms/step - loss: 0.0814 - accuracy: 0.9763 - val_loss: 0.2170 - val_accuracy: 0.9462\n",
      "Epoch 60/100\n",
      "4799/4800 [============================>.] - ETA: 0s - loss: 0.0434 - accuracy: 0.9844\n",
      "Epoch 60: val_loss did not improve from 0.18933\n",
      "4800/4800 [==============================] - 165s 34ms/step - loss: 0.0435 - accuracy: 0.9844 - val_loss: 0.2133 - val_accuracy: 0.9458\n",
      "Epoch 61/100\n",
      "4800/4800 [==============================] - ETA: 0s - loss: 0.0499 - accuracy: 0.9833\n",
      "Epoch 61: val_loss did not improve from 0.18933\n",
      "4800/4800 [==============================] - 166s 35ms/step - loss: 0.0499 - accuracy: 0.9833 - val_loss: 0.2225 - val_accuracy: 0.9451\n",
      "Epoch 61: early stopping\n",
      "Time to train model 1: 173.93 minutes.\n"
     ]
    }
   ],
   "source": [
    "histories = []\n",
    "for i in range(0,iterations):\n",
    "    print('Running iteration: %i' % i)\n",
    "\n",
    "    # Saving the best checkpoint for each iteration\n",
    "    filepath = \"fashion_mnist_ResNet50-%i.hdf5\" % i\n",
    "\n",
    "    X_train_, X_val_, y_train_, y_val_ = train_test_split(X_train_shaped, y_train_shaped,\n",
    "                                                          test_size=0.2, random_state=42)\n",
    "\n",
    "    cnn = models.create_resnet50(input_shape = (img_height, img_width, channels), classes = num_classes)\n",
    "    tick = time.perf_counter()\n",
    "    history = cnn.fit(\n",
    "        X_train_, y_train_,\n",
    "        batch_size=batch_size,\n",
    "        epochs=num_epochs,\n",
    "        verbose=1,\n",
    "        validation_data=(X_val_, y_val_),\n",
    "        callbacks=[\n",
    "            tf.keras.callbacks.EarlyStopping(monitor='val_accuracy', min_delta=0.05, patience=10, start_from_epoch=50, verbose=1, mode='max'),  \n",
    "            tf.keras.callbacks.ModelCheckpoint(filepath, monitor='val_loss', verbose=1, save_best_only=True)\n",
    "        ]\n",
    "    )\n",
    "    tock = time.perf_counter()\n",
    "    histories.append(history.history)\n",
    "    print(f\"Time to train model {i+1}: {(tock-tick)/60:.2f} minutes.\")"
   ]
  },
  {
   "cell_type": "markdown",
   "id": "6b85a693-b8eb-4b7a-b586-218cb8768548",
   "metadata": {},
   "source": [
    "# Evaluation"
   ]
  },
  {
   "cell_type": "markdown",
   "id": "28f17b16-35ae-47a4-b08b-0ddfe4347c60",
   "metadata": {},
   "source": [
    "## Training scores for loss and accuracy for all checkpoints"
   ]
  },
  {
   "cell_type": "code",
   "execution_count": 17,
   "id": "d87de8af-1e1a-4ddb-adab-383ea91d6b34",
   "metadata": {},
   "outputs": [
    {
     "name": "stdout",
     "output_type": "stream",
     "text": [
      "Training: \t0.10551434 loss / 0.96154165 acc\n",
      "Validation: \t0.18933475 loss / 0.93699998 acc\n"
     ]
    }
   ],
   "source": [
    "print('Training: \\t%0.8f loss / %0.8f acc'   % (utils.get_avg(histories,'loss'), utils.get_avg(histories,'accuracy')))\n",
    "print('Validation: \\t%0.8f loss / %0.8f acc' % (utils.get_avg(histories,'val_loss'), utils.get_avg(histories,'val_accuracy')))"
   ]
  },
  {
   "cell_type": "markdown",
   "id": "d92eed13-1af6-4125-81c4-55a0fc1cb5a9",
   "metadata": {},
   "source": [
    "## Loss / accuracy of all models on testset"
   ]
  },
  {
   "cell_type": "code",
   "execution_count": 18,
   "id": "3ad33076-ef2a-4a74-a81c-d9a433b19b1b",
   "metadata": {},
   "outputs": [
    {
     "name": "stdout",
     "output_type": "stream",
     "text": [
      "Running final test with model 0: 0.2989 loss / 0.9167 acc\n",
      "\n",
      "Average loss / accuracy on testset: 0.2989 loss / 0.91670 acc\n",
      "Standard deviation: (+-0.0000) loss / (+-0.0000) acc\n"
     ]
    }
   ],
   "source": [
    "test_loss = []\n",
    "test_accs = []\n",
    "\n",
    "for i in range(0,iterations):\n",
    "    cnn_ = tf.keras.models.load_model(\"fashion_mnist_ResNet50-%i.hdf5\" % i)\n",
    "\n",
    "    score = cnn_.evaluate(X_test_shaped, y_test_shaped, verbose=0)\n",
    "    test_loss.append(score[0])\n",
    "    test_accs.append(score[1])\n",
    "\n",
    "    print('Running final test with model %i: %0.4f loss / %0.4f acc' % (i, score[0], score[1]))\n",
    "\n",
    "print('\\nAverage loss / accuracy on testset: %0.4f loss / %0.5f acc' % (np.mean(test_loss), np.mean(test_accs)))\n",
    "print('Standard deviation: (+-%0.4f) loss / (+-%0.4f) acc' % (np.std(test_loss), np.std(test_accs)))"
   ]
  },
  {
   "cell_type": "markdown",
   "id": "6a8df4c3-e773-4f86-9c08-cc00b73fd835",
   "metadata": {},
   "source": [
    "## Plotting accuracy and loss for each iteration"
   ]
  },
  {
   "cell_type": "code",
   "execution_count": 5,
   "id": "565b39db-7d85-45d1-b104-63a2c02b9515",
   "metadata": {},
   "outputs": [
    {
     "ename": "NameError",
     "evalue": "name 'histories' is not defined",
     "output_type": "error",
     "traceback": [
      "\u001b[0;31m---------------------------------------------------------------------------\u001b[0m",
      "\u001b[0;31mNameError\u001b[0m                                 Traceback (most recent call last)",
      "Cell \u001b[0;32mIn[5], line 1\u001b[0m\n\u001b[0;32m----> 1\u001b[0m utils\u001b[38;5;241m.\u001b[39mplot_acc_loss(\u001b[38;5;124m'\u001b[39m\u001b[38;5;124mtraining\u001b[39m\u001b[38;5;124m'\u001b[39m, \u001b[43mhistories\u001b[49m, \u001b[38;5;124m'\u001b[39m\u001b[38;5;124maccuracy\u001b[39m\u001b[38;5;124m'\u001b[39m, \u001b[38;5;124m'\u001b[39m\u001b[38;5;124mloss\u001b[39m\u001b[38;5;124m'\u001b[39m)\n\u001b[1;32m      2\u001b[0m utils\u001b[38;5;241m.\u001b[39mplot_acc_loss(\u001b[38;5;124m'\u001b[39m\u001b[38;5;124mvalidation\u001b[39m\u001b[38;5;124m'\u001b[39m, histories, \u001b[38;5;124m'\u001b[39m\u001b[38;5;124mval_accuracy\u001b[39m\u001b[38;5;124m'\u001b[39m, \u001b[38;5;124m'\u001b[39m\u001b[38;5;124mval_loss\u001b[39m\u001b[38;5;124m'\u001b[39m)\n",
      "\u001b[0;31mNameError\u001b[0m: name 'histories' is not defined"
     ]
    }
   ],
   "source": [
    "utils.plot_acc_loss('training', histories, 'accuracy', 'loss')\n",
    "utils.plot_acc_loss('validation', histories, 'val_accuracy', 'val_loss')"
   ]
  },
  {
   "cell_type": "markdown",
   "id": "8e4e5dfa-a07a-4c0c-b7b8-6fbe2f171e78",
   "metadata": {},
   "source": [
    "## Evaluation for one model"
   ]
  },
  {
   "cell_type": "code",
   "execution_count": 19,
   "id": "cc44bbc6-2503-434e-a525-37ad774e4551",
   "metadata": {},
   "outputs": [],
   "source": [
    "RUN = 0 # you can choose one of the different models trained above\n",
    "model = models.create_resnet50(input_shape = (img_height, img_width, channels), classes = num_classes)\n",
    "model.load_weights(\"fashion_mnist_ResNet50-%i.hdf5\" % RUN)"
   ]
  },
  {
   "cell_type": "markdown",
   "id": "a9e518c3-8864-452e-af46-8a0b399149f1",
   "metadata": {},
   "source": [
    "## Plotting accuracy and loss for one model"
   ]
  },
  {
   "cell_type": "code",
   "execution_count": 2,
   "id": "57bcfa7e-056f-455a-957c-6f26192fe34a",
   "metadata": {},
   "outputs": [
    {
     "ename": "NameError",
     "evalue": "name 'utils' is not defined",
     "output_type": "error",
     "traceback": [
      "\u001b[0;31m---------------------------------------------------------------------------\u001b[0m",
      "\u001b[0;31mNameError\u001b[0m                                 Traceback (most recent call last)",
      "Cell \u001b[0;32mIn[2], line 1\u001b[0m\n\u001b[0;32m----> 1\u001b[0m \u001b[43mutils\u001b[49m\u001b[38;5;241m.\u001b[39mplot_train_val(\u001b[38;5;124m'\u001b[39m\u001b[38;5;124mModel \u001b[39m\u001b[38;5;132;01m%i\u001b[39;00m\u001b[38;5;124m'\u001b[39m \u001b[38;5;241m%\u001b[39m RUN, histories[RUN])\n",
      "\u001b[0;31mNameError\u001b[0m: name 'utils' is not defined"
     ]
    }
   ],
   "source": [
    "utils.plot_train_val('Model %i' % RUN, histories[RUN])"
   ]
  },
  {
   "cell_type": "markdown",
   "id": "9f2904fc-4b85-44a8-af6d-41f067687b84",
   "metadata": {},
   "source": [
    "## Displaying results of random predictions"
   ]
  },
  {
   "cell_type": "code",
   "execution_count": 4,
   "id": "e4f5f77b-4a97-4fc3-806f-41e4e98232c0",
   "metadata": {},
   "outputs": [
    {
     "ename": "NameError",
     "evalue": "name 'fashion_classes' is not defined",
     "output_type": "error",
     "traceback": [
      "\u001b[0;31m---------------------------------------------------------------------------\u001b[0m",
      "\u001b[0;31mNameError\u001b[0m                                 Traceback (most recent call last)",
      "Cell \u001b[0;32mIn[4], line 1\u001b[0m\n\u001b[0;32m----> 1\u001b[0m utils\u001b[38;5;241m.\u001b[39mplot_sample_predictions(\u001b[38;5;28mlist\u001b[39m(\u001b[43mfashion_classes\u001b[49m\u001b[38;5;241m.\u001b[39mvalues()), model, X_test_shaped, y_test)\n",
      "\u001b[0;31mNameError\u001b[0m: name 'fashion_classes' is not defined"
     ]
    }
   ],
   "source": [
    "utils.plot_sample_predictions(list(fashion_classes.values()), model, X_test_shaped, y_test)"
   ]
  },
  {
   "cell_type": "markdown",
   "id": "1054cea8-efaa-4d03-a33a-d7e692bc10e4",
   "metadata": {},
   "source": [
    "## Plotting confusion matrix"
   ]
  },
  {
   "cell_type": "code",
   "execution_count": 22,
   "id": "45f23e30-885a-47d8-9f6f-06d676d8b90c",
   "metadata": {},
   "outputs": [
    {
     "data": {
      "image/png": "[encoded data removed]",
      "text/plain": [
       "<Figure size 640x480 with 1 Axes>"
      ]
     },
     "metadata": {},
     "output_type": "display_data"
    }
   ],
   "source": [
    "predictions = model.predict(X_test_shaped, verbose=0)\n",
    "classes = np.argmax(predictions,axis=1)\n",
    "utils.plot_confusion_matrix(confusion_matrix(y_test, classes), list(fashion_classes.values()))"
   ]
  },
  {
   "cell_type": "markdown",
   "id": "71858c47-d909-49c4-a39b-e707956094dd",
   "metadata": {},
   "source": [
    "## Report of f1, precision and recall"
   ]
  },
  {
   "cell_type": "code",
   "execution_count": 23,
   "id": "51ae92ce-2694-468c-88fe-06194bd8cdc3",
   "metadata": {},
   "outputs": [
    {
     "name": "stdout",
     "output_type": "stream",
     "text": [
      "              precision    recall  f1-score   support\n",
      "\n",
      "           0       0.86      0.88      0.87      1000\n",
      "           1       0.99      0.99      0.99      1000\n",
      "           2       0.85      0.89      0.87      1000\n",
      "           3       0.92      0.92      0.92      1000\n",
      "           4       0.85      0.88      0.86      1000\n",
      "           5       0.99      0.97      0.98      1000\n",
      "           6       0.79      0.72      0.75      1000\n",
      "           7       0.95      0.97      0.96      1000\n",
      "           8       0.98      0.99      0.98      1000\n",
      "           9       0.96      0.96      0.96      1000\n",
      "\n",
      "    accuracy                           0.92     10000\n",
      "   macro avg       0.92      0.92      0.92     10000\n",
      "weighted avg       0.92      0.92      0.92     10000\n",
      "\n"
     ]
    }
   ],
   "source": [
    "print(classification_report(y_test, classes))"
   ]
  }
 ],
 "metadata": {
  "kernelspec": {
   "display_name": "Python 3 (ipykernel)",
   "language": "python",
   "name": "python3"
  },
  "language_info": {
   "codemirror_mode": {
    "name": "ipython",
    "version": 3
   },
   "file_extension": ".py",
   "mimetype": "text/x-python",
   "name": "python",
   "nbconvert_exporter": "python",
   "pygments_lexer": "ipython3",
   "version": "3.10.12"
  }
 },
 "nbformat": 4,
 "nbformat_minor": 5
}
